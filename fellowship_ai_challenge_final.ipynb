{
 "cells": [
  {
   "cell_type": "markdown",
   "metadata": {
    "colab_type": "text",
    "id": "Z1APz38i_f9M"
   },
   "source": [
    "# Global Terrorist Attacks\n",
    "\n",
    "Global Terrorism Database (GTD) is an open-source database including information on terrorist events around the world from 1970 through 2014. Some portion of the attacks have not been attributed to a particular terrorist group.\n",
    "\n",
    "Use attack type, weapons used, description of the attack, etc. to build a model that can predict what group may have been responsible for an incident. "
   ]
  },
  {
   "cell_type": "markdown",
   "metadata": {
    "colab_type": "text",
    "id": "N9TId5w8CqqA"
   },
   "source": [
    "We will start by updating and installing some of the libraries in this runtime."
   ]
  },
  {
   "cell_type": "code",
   "execution_count": 1,
   "metadata": {
    "colab": {
     "base_uri": "https://localhost:8080/",
     "height": 615
    },
    "colab_type": "code",
    "id": "nfkwgV5gkLAE",
    "outputId": "a46e7b16-9c8e-4553-b682-b2400de1c411"
   },
   "outputs": [
    {
     "name": "stdout",
     "output_type": "stream",
     "text": [
      "Requirement already up-to-date: seaborn in /Users/mostafagazar/anaconda3/envs/tf/lib/python3.5/site-packages\n",
      "Requirement already up-to-date: matplotlib>=1.4.3 in /Users/mostafagazar/anaconda3/envs/tf/lib/python3.5/site-packages (from seaborn)\n",
      "Requirement already up-to-date: pandas>=0.15.2 in /Users/mostafagazar/anaconda3/envs/tf/lib/python3.5/site-packages (from seaborn)\n",
      "Requirement already up-to-date: numpy>=1.9.3 in /Users/mostafagazar/anaconda3/envs/tf/lib/python3.5/site-packages (from seaborn)\n",
      "Requirement already up-to-date: scipy>=0.14.0 in /Users/mostafagazar/anaconda3/envs/tf/lib/python3.5/site-packages (from seaborn)\n",
      "Requirement already up-to-date: pyparsing!=2.0.4,!=2.1.2,!=2.1.6,>=2.0.1 in /Users/mostafagazar/anaconda3/envs/tf/lib/python3.5/site-packages (from matplotlib>=1.4.3->seaborn)\n",
      "Requirement already up-to-date: python-dateutil>=2.1 in /Users/mostafagazar/anaconda3/envs/tf/lib/python3.5/site-packages (from matplotlib>=1.4.3->seaborn)\n",
      "Requirement already up-to-date: kiwisolver>=1.0.1 in /Users/mostafagazar/anaconda3/envs/tf/lib/python3.5/site-packages (from matplotlib>=1.4.3->seaborn)\n",
      "Requirement already up-to-date: cycler>=0.10 in /Users/mostafagazar/anaconda3/envs/tf/lib/python3.5/site-packages/cycler-0.10.0-py3.5.egg (from matplotlib>=1.4.3->seaborn)\n",
      "Requirement already up-to-date: pytz>=2011k in /Users/mostafagazar/anaconda3/envs/tf/lib/python3.5/site-packages (from pandas>=0.15.2->seaborn)\n",
      "Requirement already up-to-date: six>=1.5 in /Users/mostafagazar/anaconda3/envs/tf/lib/python3.5/site-packages (from python-dateutil>=2.1->matplotlib>=1.4.3->seaborn)\n",
      "Requirement already up-to-date: setuptools in /Users/mostafagazar/anaconda3/envs/tf/lib/python3.5/site-packages (from kiwisolver>=1.0.1->matplotlib>=1.4.3->seaborn)\n",
      "\u001b[33mYou are using pip version 9.0.1, however version 18.1 is available.\n",
      "You should consider upgrading via the 'pip install --upgrade pip' command.\u001b[0m\n",
      "\u001b[33mYou are using pip version 9.0.1, however version 18.1 is available.\n",
      "You should consider upgrading via the 'pip install --upgrade pip' command.\u001b[0m\n",
      "Requirement already satisfied: pdpbox in /Users/mostafagazar/anaconda3/envs/tf/lib/python3.5/site-packages\n",
      "Requirement already satisfied: psutil in /Users/mostafagazar/anaconda3/envs/tf/lib/python3.5/site-packages (from pdpbox)\n",
      "Requirement already satisfied: matplotlib>=2.1.2 in /Users/mostafagazar/anaconda3/envs/tf/lib/python3.5/site-packages (from pdpbox)\n",
      "Requirement already satisfied: scipy in /Users/mostafagazar/anaconda3/envs/tf/lib/python3.5/site-packages (from pdpbox)\n",
      "Requirement already satisfied: pandas in /Users/mostafagazar/anaconda3/envs/tf/lib/python3.5/site-packages (from pdpbox)\n",
      "Requirement already satisfied: scikit-learn in /Users/mostafagazar/anaconda3/envs/tf/lib/python3.5/site-packages (from pdpbox)\n",
      "Requirement already satisfied: numpy in /Users/mostafagazar/anaconda3/envs/tf/lib/python3.5/site-packages (from pdpbox)\n",
      "Requirement already satisfied: joblib in /Users/mostafagazar/anaconda3/envs/tf/lib/python3.5/site-packages (from pdpbox)\n",
      "Requirement already satisfied: pyparsing!=2.0.4,!=2.1.2,!=2.1.6,>=2.0.1 in /Users/mostafagazar/anaconda3/envs/tf/lib/python3.5/site-packages (from matplotlib>=2.1.2->pdpbox)\n",
      "Requirement already satisfied: kiwisolver>=1.0.1 in /Users/mostafagazar/anaconda3/envs/tf/lib/python3.5/site-packages (from matplotlib>=2.1.2->pdpbox)\n",
      "Requirement already satisfied: cycler>=0.10 in /Users/mostafagazar/anaconda3/envs/tf/lib/python3.5/site-packages/cycler-0.10.0-py3.5.egg (from matplotlib>=2.1.2->pdpbox)\n",
      "Requirement already satisfied: python-dateutil>=2.1 in /Users/mostafagazar/anaconda3/envs/tf/lib/python3.5/site-packages (from matplotlib>=2.1.2->pdpbox)\n",
      "Requirement already satisfied: pytz>=2011k in /Users/mostafagazar/anaconda3/envs/tf/lib/python3.5/site-packages (from pandas->pdpbox)\n",
      "Requirement already satisfied: setuptools in /Users/mostafagazar/anaconda3/envs/tf/lib/python3.5/site-packages (from kiwisolver>=1.0.1->matplotlib>=2.1.2->pdpbox)\n",
      "Requirement already satisfied: six in /Users/mostafagazar/anaconda3/envs/tf/lib/python3.5/site-packages (from cycler>=0.10->matplotlib>=2.1.2->pdpbox)\n",
      "\u001b[33mYou are using pip version 9.0.1, however version 18.1 is available.\n",
      "You should consider upgrading via the 'pip install --upgrade pip' command.\u001b[0m\n",
      "Collecting eli5\n",
      "  Downloading https://files.pythonhosted.org/packages/8d/c8/04bed18dcce1d927b0dd5fc3425777354b714d2e62d60ae301928b5a5bf8/eli5-0.8.1-py2.py3-none-any.whl (98kB)\n",
      "\u001b[K    100% |################################| 102kB 526kB/s a 0:00:011\n",
      "\u001b[?25hRequirement already satisfied: numpy>=1.9.0 in /Users/mostafagazar/anaconda3/envs/tf/lib/python3.5/site-packages (from eli5)\n",
      "Requirement already satisfied: jinja2 in /Users/mostafagazar/anaconda3/envs/tf/lib/python3.5/site-packages (from eli5)\n",
      "Collecting typing (from eli5)\n",
      "  Downloading https://files.pythonhosted.org/packages/4a/bd/eee1157fc2d8514970b345d69cb9975dcd1e42cd7e61146ed841f6e68309/typing-3.6.6-py3-none-any.whl\n",
      "Requirement already satisfied: scipy in /Users/mostafagazar/anaconda3/envs/tf/lib/python3.5/site-packages (from eli5)\n",
      "Requirement already satisfied: scikit-learn>=0.18 in /Users/mostafagazar/anaconda3/envs/tf/lib/python3.5/site-packages (from eli5)\n",
      "Requirement already satisfied: six in /Users/mostafagazar/anaconda3/envs/tf/lib/python3.5/site-packages (from eli5)\n",
      "Collecting tabulate>=0.7.7 (from eli5)\n",
      "  Downloading https://files.pythonhosted.org/packages/12/c2/11d6845db5edf1295bc08b2f488cf5937806586afe42936c3f34c097ebdc/tabulate-0.8.2.tar.gz (45kB)\n",
      "\u001b[K    100% |################################| 51kB 4.1MB/s eta 0:00:01\n",
      "\u001b[?25hCollecting graphviz (from eli5)\n",
      "  Downloading https://files.pythonhosted.org/packages/1f/e2/ef2581b5b86625657afd32030f90cf2717456c1d2b711ba074bf007c0f1a/graphviz-0.10.1-py2.py3-none-any.whl\n",
      "Collecting attrs>16.0.0 (from eli5)\n",
      "  Downloading https://files.pythonhosted.org/packages/3a/e1/5f9023cc983f1a628a8c2fd051ad19e76ff7b142a0faf329336f9a62a514/attrs-18.2.0-py2.py3-none-any.whl\n",
      "Collecting singledispatch>=3.4.0.3; python_version < \"3.5.6\" (from eli5)\n",
      "  Downloading https://files.pythonhosted.org/packages/c5/10/369f50bcd4621b263927b0a1519987a04383d4a98fb10438042ad410cf88/singledispatch-3.4.0.3-py2.py3-none-any.whl\n",
      "Requirement already satisfied: MarkupSafe>=0.23 in /Users/mostafagazar/anaconda3/envs/tf/lib/python3.5/site-packages (from jinja2->eli5)\n",
      "Building wheels for collected packages: tabulate\n",
      "  Running setup.py bdist_wheel for tabulate ... \u001b[?25ldone\n",
      "\u001b[?25h  Stored in directory: /Users/mostafagazar/Library/Caches/pip/wheels/2a/85/33/2f6da85d5f10614cbe5a625eab3b3aebfdf43e7b857f25f829\n",
      "Successfully built tabulate\n",
      "Installing collected packages: typing, tabulate, graphviz, attrs, singledispatch, eli5\n",
      "Successfully installed attrs-18.2.0 eli5-0.8.1 graphviz-0.10.1 singledispatch-3.4.0.3 tabulate-0.8.2 typing-3.6.6\n",
      "\u001b[33mYou are using pip version 9.0.1, however version 18.1 is available.\n",
      "You should consider upgrading via the 'pip install --upgrade pip' command.\u001b[0m\n"
     ]
    }
   ],
   "source": [
    "!pip install -U seaborn\n",
    "!pip install xlrd>=0.9.0\n",
    "!pip install pdpbox\n",
    "!pip install eli5"
   ]
  },
  {
   "cell_type": "code",
   "execution_count": 2,
   "metadata": {
    "colab": {},
    "colab_type": "code",
    "id": "_ZovLSwmkP9u"
   },
   "outputs": [],
   "source": [
    "import os.path\n",
    "\n",
    "import numpy as np\n",
    "import pandas as pd\n",
    "\n",
    "%matplotlib inline\n",
    "import matplotlib.pyplot as plt\n",
    "import seaborn as sns\n",
    "sns.set()"
   ]
  },
  {
   "cell_type": "markdown",
   "metadata": {
    "colab_type": "text",
    "id": "D326vFhgDQnv"
   },
   "source": [
    "## Download dataset\n",
    "\n",
    "I will first explore a small dataset (attacks between 2014-2017) and then re-run all the cells on the complete dataset."
   ]
  },
  {
   "cell_type": "code",
   "execution_count": 3,
   "metadata": {
    "colab": {
     "base_uri": "https://localhost:8080/",
     "height": 34
    },
    "colab_type": "code",
    "id": "PX_HJ81jnD70",
    "outputId": "ca195012-3733-4e81-de61-a09b285b9116"
   },
   "outputs": [
    {
     "name": "stdout",
     "output_type": "stream",
     "text": [
      "Reading local globalterrorismdb_0718dist.xlsx\n"
     ]
    }
   ],
   "source": [
    "# excel_file = \"gtd_14to17_0718dist.xlsx\"\n",
    "excel_file = \"globalterrorismdb_0718dist.xlsx\"\n",
    "\n",
    "if os.path.isfile(excel_file):\n",
    "    print(\"Reading local\", excel_file)\n",
    "    df = pd.read_excel(excel_file)\n",
    "else:\n",
    "    print(\"Downloading and reading,\", excel_file)\n",
    "    df = pd.read_excel('http://apps.start.umd.edu/gtd/downloads/dataset/' + excel_file)"
   ]
  },
  {
   "cell_type": "code",
   "execution_count": 4,
   "metadata": {
    "colab": {
     "base_uri": "https://localhost:8080/",
     "height": 270
    },
    "colab_type": "code",
    "id": "xAKHOKZuyq2j",
    "outputId": "6faba525-6698-480f-a20a-55519a4f2903"
   },
   "outputs": [
    {
     "data": {
      "text/html": [
       "<div>\n",
       "<style scoped>\n",
       "    .dataframe tbody tr th:only-of-type {\n",
       "        vertical-align: middle;\n",
       "    }\n",
       "\n",
       "    .dataframe tbody tr th {\n",
       "        vertical-align: top;\n",
       "    }\n",
       "\n",
       "    .dataframe thead th {\n",
       "        text-align: right;\n",
       "    }\n",
       "</style>\n",
       "<table border=\"1\" class=\"dataframe\">\n",
       "  <thead>\n",
       "    <tr style=\"text-align: right;\">\n",
       "      <th></th>\n",
       "      <th>eventid</th>\n",
       "      <th>iyear</th>\n",
       "      <th>imonth</th>\n",
       "      <th>iday</th>\n",
       "      <th>approxdate</th>\n",
       "      <th>extended</th>\n",
       "      <th>resolution</th>\n",
       "      <th>country</th>\n",
       "      <th>country_txt</th>\n",
       "      <th>region</th>\n",
       "      <th>...</th>\n",
       "      <th>addnotes</th>\n",
       "      <th>scite1</th>\n",
       "      <th>scite2</th>\n",
       "      <th>scite3</th>\n",
       "      <th>dbsource</th>\n",
       "      <th>INT_LOG</th>\n",
       "      <th>INT_IDEO</th>\n",
       "      <th>INT_MISC</th>\n",
       "      <th>INT_ANY</th>\n",
       "      <th>related</th>\n",
       "    </tr>\n",
       "  </thead>\n",
       "  <tbody>\n",
       "    <tr>\n",
       "      <th>0</th>\n",
       "      <td>197000000001</td>\n",
       "      <td>1970</td>\n",
       "      <td>7</td>\n",
       "      <td>2</td>\n",
       "      <td>NaN</td>\n",
       "      <td>0</td>\n",
       "      <td>NaT</td>\n",
       "      <td>58</td>\n",
       "      <td>Dominican Republic</td>\n",
       "      <td>2</td>\n",
       "      <td>...</td>\n",
       "      <td>NaN</td>\n",
       "      <td>NaN</td>\n",
       "      <td>NaN</td>\n",
       "      <td>NaN</td>\n",
       "      <td>PGIS</td>\n",
       "      <td>0</td>\n",
       "      <td>0</td>\n",
       "      <td>0</td>\n",
       "      <td>0</td>\n",
       "      <td>NaN</td>\n",
       "    </tr>\n",
       "    <tr>\n",
       "      <th>1</th>\n",
       "      <td>197000000002</td>\n",
       "      <td>1970</td>\n",
       "      <td>0</td>\n",
       "      <td>0</td>\n",
       "      <td>NaN</td>\n",
       "      <td>0</td>\n",
       "      <td>NaT</td>\n",
       "      <td>130</td>\n",
       "      <td>Mexico</td>\n",
       "      <td>1</td>\n",
       "      <td>...</td>\n",
       "      <td>NaN</td>\n",
       "      <td>NaN</td>\n",
       "      <td>NaN</td>\n",
       "      <td>NaN</td>\n",
       "      <td>PGIS</td>\n",
       "      <td>0</td>\n",
       "      <td>1</td>\n",
       "      <td>1</td>\n",
       "      <td>1</td>\n",
       "      <td>NaN</td>\n",
       "    </tr>\n",
       "    <tr>\n",
       "      <th>2</th>\n",
       "      <td>197001000001</td>\n",
       "      <td>1970</td>\n",
       "      <td>1</td>\n",
       "      <td>0</td>\n",
       "      <td>NaN</td>\n",
       "      <td>0</td>\n",
       "      <td>NaT</td>\n",
       "      <td>160</td>\n",
       "      <td>Philippines</td>\n",
       "      <td>5</td>\n",
       "      <td>...</td>\n",
       "      <td>NaN</td>\n",
       "      <td>NaN</td>\n",
       "      <td>NaN</td>\n",
       "      <td>NaN</td>\n",
       "      <td>PGIS</td>\n",
       "      <td>-9</td>\n",
       "      <td>-9</td>\n",
       "      <td>1</td>\n",
       "      <td>1</td>\n",
       "      <td>NaN</td>\n",
       "    </tr>\n",
       "    <tr>\n",
       "      <th>3</th>\n",
       "      <td>197001000002</td>\n",
       "      <td>1970</td>\n",
       "      <td>1</td>\n",
       "      <td>0</td>\n",
       "      <td>NaN</td>\n",
       "      <td>0</td>\n",
       "      <td>NaT</td>\n",
       "      <td>78</td>\n",
       "      <td>Greece</td>\n",
       "      <td>8</td>\n",
       "      <td>...</td>\n",
       "      <td>NaN</td>\n",
       "      <td>NaN</td>\n",
       "      <td>NaN</td>\n",
       "      <td>NaN</td>\n",
       "      <td>PGIS</td>\n",
       "      <td>-9</td>\n",
       "      <td>-9</td>\n",
       "      <td>1</td>\n",
       "      <td>1</td>\n",
       "      <td>NaN</td>\n",
       "    </tr>\n",
       "    <tr>\n",
       "      <th>4</th>\n",
       "      <td>197001000003</td>\n",
       "      <td>1970</td>\n",
       "      <td>1</td>\n",
       "      <td>0</td>\n",
       "      <td>NaN</td>\n",
       "      <td>0</td>\n",
       "      <td>NaT</td>\n",
       "      <td>101</td>\n",
       "      <td>Japan</td>\n",
       "      <td>4</td>\n",
       "      <td>...</td>\n",
       "      <td>NaN</td>\n",
       "      <td>NaN</td>\n",
       "      <td>NaN</td>\n",
       "      <td>NaN</td>\n",
       "      <td>PGIS</td>\n",
       "      <td>-9</td>\n",
       "      <td>-9</td>\n",
       "      <td>1</td>\n",
       "      <td>1</td>\n",
       "      <td>NaN</td>\n",
       "    </tr>\n",
       "  </tbody>\n",
       "</table>\n",
       "<p>5 rows × 135 columns</p>\n",
       "</div>"
      ],
      "text/plain": [
       "        eventid  iyear  imonth  iday approxdate  extended resolution  country  \\\n",
       "0  197000000001   1970       7     2        NaN         0        NaT       58   \n",
       "1  197000000002   1970       0     0        NaN         0        NaT      130   \n",
       "2  197001000001   1970       1     0        NaN         0        NaT      160   \n",
       "3  197001000002   1970       1     0        NaN         0        NaT       78   \n",
       "4  197001000003   1970       1     0        NaN         0        NaT      101   \n",
       "\n",
       "          country_txt  region   ...    addnotes scite1 scite2  scite3  \\\n",
       "0  Dominican Republic       2   ...         NaN    NaN    NaN     NaN   \n",
       "1              Mexico       1   ...         NaN    NaN    NaN     NaN   \n",
       "2         Philippines       5   ...         NaN    NaN    NaN     NaN   \n",
       "3              Greece       8   ...         NaN    NaN    NaN     NaN   \n",
       "4               Japan       4   ...         NaN    NaN    NaN     NaN   \n",
       "\n",
       "   dbsource  INT_LOG  INT_IDEO INT_MISC INT_ANY  related  \n",
       "0      PGIS        0         0        0       0      NaN  \n",
       "1      PGIS        0         1        1       1      NaN  \n",
       "2      PGIS       -9        -9        1       1      NaN  \n",
       "3      PGIS       -9        -9        1       1      NaN  \n",
       "4      PGIS       -9        -9        1       1      NaN  \n",
       "\n",
       "[5 rows x 135 columns]"
      ]
     },
     "execution_count": 4,
     "metadata": {},
     "output_type": "execute_result"
    }
   ],
   "source": [
    "df.head()"
   ]
  },
  {
   "cell_type": "code",
   "execution_count": 5,
   "metadata": {
    "colab": {
     "base_uri": "https://localhost:8080/",
     "height": 2312
    },
    "colab_type": "code",
    "id": "KvMU-ms8nEWd",
    "outputId": "43d18305-21ab-43cf-aad0-046b05a62f89"
   },
   "outputs": [
    {
     "data": {
      "text/plain": [
       "['eventid',\n",
       " 'iyear',\n",
       " 'imonth',\n",
       " 'iday',\n",
       " 'approxdate',\n",
       " 'extended',\n",
       " 'resolution',\n",
       " 'country',\n",
       " 'country_txt',\n",
       " 'region',\n",
       " 'region_txt',\n",
       " 'provstate',\n",
       " 'city',\n",
       " 'latitude',\n",
       " 'longitude',\n",
       " 'specificity',\n",
       " 'vicinity',\n",
       " 'location',\n",
       " 'summary',\n",
       " 'crit1',\n",
       " 'crit2',\n",
       " 'crit3',\n",
       " 'doubtterr',\n",
       " 'alternative',\n",
       " 'alternative_txt',\n",
       " 'multiple',\n",
       " 'success',\n",
       " 'suicide',\n",
       " 'attacktype1',\n",
       " 'attacktype1_txt',\n",
       " 'attacktype2',\n",
       " 'attacktype2_txt',\n",
       " 'attacktype3',\n",
       " 'attacktype3_txt',\n",
       " 'targtype1',\n",
       " 'targtype1_txt',\n",
       " 'targsubtype1',\n",
       " 'targsubtype1_txt',\n",
       " 'corp1',\n",
       " 'target1',\n",
       " 'natlty1',\n",
       " 'natlty1_txt',\n",
       " 'targtype2',\n",
       " 'targtype2_txt',\n",
       " 'targsubtype2',\n",
       " 'targsubtype2_txt',\n",
       " 'corp2',\n",
       " 'target2',\n",
       " 'natlty2',\n",
       " 'natlty2_txt',\n",
       " 'targtype3',\n",
       " 'targtype3_txt',\n",
       " 'targsubtype3',\n",
       " 'targsubtype3_txt',\n",
       " 'corp3',\n",
       " 'target3',\n",
       " 'natlty3',\n",
       " 'natlty3_txt',\n",
       " 'gname',\n",
       " 'gsubname',\n",
       " 'gname2',\n",
       " 'gsubname2',\n",
       " 'gname3',\n",
       " 'gsubname3',\n",
       " 'motive',\n",
       " 'guncertain1',\n",
       " 'guncertain2',\n",
       " 'guncertain3',\n",
       " 'individual',\n",
       " 'nperps',\n",
       " 'nperpcap',\n",
       " 'claimed',\n",
       " 'claimmode',\n",
       " 'claimmode_txt',\n",
       " 'claim2',\n",
       " 'claimmode2',\n",
       " 'claimmode2_txt',\n",
       " 'claim3',\n",
       " 'claimmode3',\n",
       " 'claimmode3_txt',\n",
       " 'compclaim',\n",
       " 'weaptype1',\n",
       " 'weaptype1_txt',\n",
       " 'weapsubtype1',\n",
       " 'weapsubtype1_txt',\n",
       " 'weaptype2',\n",
       " 'weaptype2_txt',\n",
       " 'weapsubtype2',\n",
       " 'weapsubtype2_txt',\n",
       " 'weaptype3',\n",
       " 'weaptype3_txt',\n",
       " 'weapsubtype3',\n",
       " 'weapsubtype3_txt',\n",
       " 'weaptype4',\n",
       " 'weaptype4_txt',\n",
       " 'weapsubtype4',\n",
       " 'weapsubtype4_txt',\n",
       " 'weapdetail',\n",
       " 'nkill',\n",
       " 'nkillus',\n",
       " 'nkillter',\n",
       " 'nwound',\n",
       " 'nwoundus',\n",
       " 'nwoundte',\n",
       " 'property',\n",
       " 'propextent',\n",
       " 'propextent_txt',\n",
       " 'propvalue',\n",
       " 'propcomment',\n",
       " 'ishostkid',\n",
       " 'nhostkid',\n",
       " 'nhostkidus',\n",
       " 'nhours',\n",
       " 'ndays',\n",
       " 'divert',\n",
       " 'kidhijcountry',\n",
       " 'ransom',\n",
       " 'ransomamt',\n",
       " 'ransomamtus',\n",
       " 'ransompaid',\n",
       " 'ransompaidus',\n",
       " 'ransomnote',\n",
       " 'hostkidoutcome',\n",
       " 'hostkidoutcome_txt',\n",
       " 'nreleased',\n",
       " 'addnotes',\n",
       " 'scite1',\n",
       " 'scite2',\n",
       " 'scite3',\n",
       " 'dbsource',\n",
       " 'INT_LOG',\n",
       " 'INT_IDEO',\n",
       " 'INT_MISC',\n",
       " 'INT_ANY',\n",
       " 'related']"
      ]
     },
     "execution_count": 5,
     "metadata": {},
     "output_type": "execute_result"
    }
   ],
   "source": [
    "df.columns.tolist()"
   ]
  },
  {
   "cell_type": "markdown",
   "metadata": {
    "colab_type": "text",
    "id": "rPXpZqSf_yaR"
   },
   "source": [
    "Looking at the above columns, I suspect that:\n",
    "* Region/country would a great factor in predicting what group may be responsible for an attack.\n",
    "* Date would also be a good factor\n",
    "* Weapon and target as well\n",
    "\n",
    "We will find out later if these assumptions are correct or not by doing permutation importance on my trained models."
   ]
  },
  {
   "cell_type": "markdown",
   "metadata": {
    "colab_type": "text",
    "id": "aVKY8dxmFmlg"
   },
   "source": [
    "## Clean data\n",
    "\n",
    "Next step is assesing our data and do some data cleanup"
   ]
  },
  {
   "cell_type": "code",
   "execution_count": 6,
   "metadata": {
    "colab": {
     "base_uri": "https://localhost:8080/",
     "height": 376
    },
    "colab_type": "code",
    "id": "BbL3IYH0yhhG",
    "outputId": "6bbf4654-f378-4e7f-b860-724ce8bab86e"
   },
   "outputs": [
    {
     "data": {
      "text/plain": [
       "<matplotlib.axes._subplots.AxesSubplot at 0x1284e30f0>"
      ]
     },
     "execution_count": 6,
     "metadata": {},
     "output_type": "execute_result"
    },
    {
     "data": {
      "image/png": "[encoded data removed]",
      "text/plain": [
       "<Figure size 432x288 with 1 Axes>"
      ]
     },
     "metadata": {},
     "output_type": "display_data"
    }
   ],
   "source": [
    "sns.heatmap(df.isnull(), yticklabels=False, cbar=False, cmap='viridis')"
   ]
  },
  {
   "cell_type": "markdown",
   "metadata": {
    "colab_type": "text",
    "id": "Q4RtJhn60wDn"
   },
   "source": [
    "### Drop almost empty columns\n",
    "\n",
    "I will start by dropping all the columns that are almost empty (70% empty)\n"
   ]
  },
  {
   "cell_type": "code",
   "execution_count": 7,
   "metadata": {
    "colab": {
     "base_uri": "https://localhost:8080/",
     "height": 1224
    },
    "colab_type": "code",
    "id": "QhJxEGnh0PoU",
    "outputId": "0f7a5c3c-b06d-498a-e5b9-9e52c9ce8943"
   },
   "outputs": [
    {
     "name": "stdout",
     "output_type": "stream",
     "text": [
      "approxdate with null ratio 0.9491499303762982 will be dropped\n",
      "resolution with null ratio 0.9877814531264619 will be dropped\n",
      "alternative with null ratio 0.8403278093026072 will be dropped\n",
      "alternative_txt with null ratio 0.8403278093026072 will be dropped\n",
      "attacktype2 with null ratio 0.9652486914596761 will be dropped\n",
      "attacktype2_txt with null ratio 0.9652486914596761 will be dropped\n",
      "attacktype3 with null ratio 0.997644352224381 will be dropped\n",
      "attacktype3_txt with null ratio 0.997644352224381 will be dropped\n",
      "targtype2 with null ratio 0.9386650962348162 will be dropped\n",
      "targtype2_txt with null ratio 0.9386650962348162 will be dropped\n",
      "targsubtype2 with null ratio 0.9411913633586694 will be dropped\n",
      "targsubtype2_txt with null ratio 0.9411913633586694 will be dropped\n",
      "corp2 with null ratio 0.9443175501263134 will be dropped\n",
      "target2 with null ratio 0.9393475736277526 will be dropped\n",
      "natlty2 with null ratio 0.9404043128168154 will be dropped\n",
      "natlty2_txt with null ratio 0.9404043128168154 will be dropped\n",
      "targtype3 with null ratio 0.9935274724669907 will be dropped\n",
      "targtype3_txt with null ratio 0.9935274724669907 will be dropped\n",
      "targsubtype3 with null ratio 0.9939622766124905 will be dropped\n",
      "targsubtype3_txt with null ratio 0.9939622766124905 will be dropped\n",
      "corp3 with null ratio 0.994353049958446 will be dropped\n",
      "target3 with null ratio 0.9935329763169337 will be dropped\n",
      "natlty3 with null ratio 0.9936870841153387 will be dropped\n",
      "natlty3_txt with null ratio 0.9936870841153387 will be dropped\n",
      "gsubname with null ratio 0.9675823238355229 will be dropped\n",
      "gname2 with null ratio 0.9889207500646703 will be dropped\n",
      "gsubname2 with null ratio 0.9991193840091144 will be dropped\n",
      "gname3 with null ratio 0.9982167526184567 will be dropped\n",
      "gsubname3 with null ratio 0.9998899230011393 will be dropped\n",
      "motive with null ratio 0.7217198430301996 will be dropped\n",
      "guncertain2 with null ratio 0.9892399733613663 will be dropped\n",
      "guncertain3 with null ratio 0.9982387680182288 will be dropped\n",
      "claimmode with null ratio 0.8949700315370602 will be dropped\n",
      "claimmode_txt with null ratio 0.8949700315370602 will be dropped\n",
      "claim2 with null ratio 0.9895977236076635 will be dropped\n",
      "claimmode2 with null ratio 0.9966096284350904 will be dropped\n",
      "claimmode2_txt with null ratio 0.9966096284350904 will be dropped\n",
      "claim3 with null ratio 0.9982497757181148 will be dropped\n",
      "claimmode3 with null ratio 0.9992679879575763 will be dropped\n",
      "claimmode3_txt with null ratio 0.9992679879575763 will be dropped\n",
      "compclaim with null ratio 0.9733668701256529 will be dropped\n",
      "weaptype2 with null ratio 0.9277509617977775 will be dropped\n",
      "weaptype2_txt with null ratio 0.9277509617977775 will be dropped\n",
      "weapsubtype2 with null ratio 0.9364745639574883 will be dropped\n",
      "weapsubtype2_txt with null ratio 0.9364745639574883 will be dropped\n",
      "weaptype3 with null ratio 0.9897463275561255 will be dropped\n",
      "weaptype3_txt with null ratio 0.9897463275561255 will be dropped\n",
      "weapsubtype3 with null ratio 0.9906819820464415 will be dropped\n",
      "weapsubtype3_txt with null ratio 0.9906819820464415 will be dropped\n",
      "weaptype4 with null ratio 0.9995982189541585 will be dropped\n",
      "weaptype4_txt with null ratio 0.9995982189541585 will be dropped\n",
      "weapsubtype4 with null ratio 0.9996147305039875 will be dropped\n",
      "weapsubtype4_txt with null ratio 0.9996147305039875 will be dropped\n",
      "propvalue with null ratio 0.7854103945710024 will be dropped\n",
      "nhostkid with null ratio 0.9253017485731269 will be dropped\n",
      "nhostkidus with null ratio 0.9256044603199939 will be dropped\n",
      "nhours with null ratio 0.9776378576814482 will be dropped\n",
      "ndays with null ratio 0.9552867230627824 will be dropped\n",
      "divert with null ratio 0.9982167526184567 will be dropped\n",
      "kidhijcountry with null ratio 0.9818097759382688 will be dropped\n",
      "ransomamt with null ratio 0.9925698025769025 will be dropped\n",
      "ransomamtus with null ratio 0.9969013324820712 will be dropped\n",
      "ransompaid with null ratio 0.9957400201440908 will be dropped\n",
      "ransompaidus with null ratio 0.9969618748314446 will be dropped\n",
      "ransomnote with null ratio 0.9971710211292799 will be dropped\n",
      "hostkidoutcome with null ratio 0.9395071852761007 will be dropped\n",
      "hostkidoutcome_txt with null ratio 0.9395071852761007 will be dropped\n",
      "nreleased with null ratio 0.9427599605924344 will be dropped\n",
      "addnotes with null ratio 0.8443015889614786 will be dropped\n",
      "scite3 with null ratio 0.7604944658788823 will be dropped\n",
      "related with null ratio 0.8621946051262859 will be dropped\n"
     ]
    }
   ],
   "source": [
    "DROP_THRESHOLD = .70\n",
    "\n",
    "columns_to_drop = []\n",
    "for column in df.columns.tolist():\n",
    "    null_ratio = df[column].isnull().sum() / len(df[column])\n",
    "    if null_ratio > DROP_THRESHOLD:\n",
    "        columns_to_drop.append(column)\n",
    "        print (column, \"with null ratio\", null_ratio , \"will be dropped\")\n",
    "\n",
    "df.drop(columns_to_drop, axis=1, inplace=True)"
   ]
  },
  {
   "cell_type": "markdown",
   "metadata": {
    "colab_type": "text",
    "id": "r16OY7pxGb9O"
   },
   "source": [
    "### Drop almost empty rows\n",
    "\n",
    "Rows with invalid data like when the attack group is unkown will be of much help, it will just confuse the model."
   ]
  },
  {
   "cell_type": "code",
   "execution_count": 8,
   "metadata": {
    "colab": {
     "base_uri": "https://localhost:8080/",
     "height": 51
    },
    "colab_type": "code",
    "id": "li9bfXOjqrkN",
    "outputId": "6192948d-32a5-461c-ddc3-0023f3f190e2"
   },
   "outputs": [
    {
     "name": "stdout",
     "output_type": "stream",
     "text": [
      "All attacks 181691\n",
      "Attacks where the attack group was known 98909\n"
     ]
    }
   ],
   "source": [
    "print(\"All attacks\", len(df))\n",
    "\n",
    "# Also drop rows where gname is unkown\n",
    "df = df[df['gname'] != 'Unknown']\n",
    "\n",
    "print(\"Attacks where the attack group was known\", len(df))"
   ]
  },
  {
   "cell_type": "code",
   "execution_count": 9,
   "metadata": {
    "colab": {
     "base_uri": "https://localhost:8080/",
     "height": 508
    },
    "colab_type": "code",
    "id": "PuqfnC_w6Xag",
    "outputId": "400b2f75-7bfe-4ea9-b651-76789c818aa6"
   },
   "outputs": [
    {
     "data": {
      "text/html": [
       "<div>\n",
       "<style scoped>\n",
       "    .dataframe tbody tr th:only-of-type {\n",
       "        vertical-align: middle;\n",
       "    }\n",
       "\n",
       "    .dataframe tbody tr th {\n",
       "        vertical-align: top;\n",
       "    }\n",
       "\n",
       "    .dataframe thead th {\n",
       "        text-align: right;\n",
       "    }\n",
       "</style>\n",
       "<table border=\"1\" class=\"dataframe\">\n",
       "  <thead>\n",
       "    <tr style=\"text-align: right;\">\n",
       "      <th></th>\n",
       "      <th>eventid</th>\n",
       "      <th>iyear</th>\n",
       "      <th>imonth</th>\n",
       "      <th>iday</th>\n",
       "      <th>extended</th>\n",
       "      <th>country</th>\n",
       "      <th>country_txt</th>\n",
       "      <th>region</th>\n",
       "      <th>region_txt</th>\n",
       "      <th>provstate</th>\n",
       "      <th>...</th>\n",
       "      <th>propcomment</th>\n",
       "      <th>ishostkid</th>\n",
       "      <th>ransom</th>\n",
       "      <th>scite1</th>\n",
       "      <th>scite2</th>\n",
       "      <th>dbsource</th>\n",
       "      <th>INT_LOG</th>\n",
       "      <th>INT_IDEO</th>\n",
       "      <th>INT_MISC</th>\n",
       "      <th>INT_ANY</th>\n",
       "    </tr>\n",
       "  </thead>\n",
       "  <tbody>\n",
       "    <tr>\n",
       "      <th>0</th>\n",
       "      <td>197000000001</td>\n",
       "      <td>1970</td>\n",
       "      <td>7</td>\n",
       "      <td>2</td>\n",
       "      <td>0</td>\n",
       "      <td>58</td>\n",
       "      <td>Dominican Republic</td>\n",
       "      <td>2</td>\n",
       "      <td>Central America &amp; Caribbean</td>\n",
       "      <td>NaN</td>\n",
       "      <td>...</td>\n",
       "      <td>NaN</td>\n",
       "      <td>0.0</td>\n",
       "      <td>0.0</td>\n",
       "      <td>NaN</td>\n",
       "      <td>NaN</td>\n",
       "      <td>PGIS</td>\n",
       "      <td>0</td>\n",
       "      <td>0</td>\n",
       "      <td>0</td>\n",
       "      <td>0</td>\n",
       "    </tr>\n",
       "    <tr>\n",
       "      <th>1</th>\n",
       "      <td>197000000002</td>\n",
       "      <td>1970</td>\n",
       "      <td>0</td>\n",
       "      <td>0</td>\n",
       "      <td>0</td>\n",
       "      <td>130</td>\n",
       "      <td>Mexico</td>\n",
       "      <td>1</td>\n",
       "      <td>North America</td>\n",
       "      <td>Federal</td>\n",
       "      <td>...</td>\n",
       "      <td>NaN</td>\n",
       "      <td>1.0</td>\n",
       "      <td>1.0</td>\n",
       "      <td>NaN</td>\n",
       "      <td>NaN</td>\n",
       "      <td>PGIS</td>\n",
       "      <td>0</td>\n",
       "      <td>1</td>\n",
       "      <td>1</td>\n",
       "      <td>1</td>\n",
       "    </tr>\n",
       "    <tr>\n",
       "      <th>5</th>\n",
       "      <td>197001010002</td>\n",
       "      <td>1970</td>\n",
       "      <td>1</td>\n",
       "      <td>1</td>\n",
       "      <td>0</td>\n",
       "      <td>217</td>\n",
       "      <td>United States</td>\n",
       "      <td>1</td>\n",
       "      <td>North America</td>\n",
       "      <td>Illinois</td>\n",
       "      <td>...</td>\n",
       "      <td>NaN</td>\n",
       "      <td>0.0</td>\n",
       "      <td>0.0</td>\n",
       "      <td>\"Police Chief Quits,\" Washington Post, January...</td>\n",
       "      <td>\"Cairo Police Chief Quits; Decries Local 'Mili...</td>\n",
       "      <td>Hewitt Project</td>\n",
       "      <td>-9</td>\n",
       "      <td>-9</td>\n",
       "      <td>0</td>\n",
       "      <td>-9</td>\n",
       "    </tr>\n",
       "    <tr>\n",
       "      <th>6</th>\n",
       "      <td>197001020001</td>\n",
       "      <td>1970</td>\n",
       "      <td>1</td>\n",
       "      <td>2</td>\n",
       "      <td>0</td>\n",
       "      <td>218</td>\n",
       "      <td>Uruguay</td>\n",
       "      <td>3</td>\n",
       "      <td>South America</td>\n",
       "      <td>Montevideo</td>\n",
       "      <td>...</td>\n",
       "      <td>NaN</td>\n",
       "      <td>0.0</td>\n",
       "      <td>0.0</td>\n",
       "      <td>NaN</td>\n",
       "      <td>NaN</td>\n",
       "      <td>PGIS</td>\n",
       "      <td>0</td>\n",
       "      <td>0</td>\n",
       "      <td>0</td>\n",
       "      <td>0</td>\n",
       "    </tr>\n",
       "    <tr>\n",
       "      <th>8</th>\n",
       "      <td>197001020003</td>\n",
       "      <td>1970</td>\n",
       "      <td>1</td>\n",
       "      <td>2</td>\n",
       "      <td>0</td>\n",
       "      <td>217</td>\n",
       "      <td>United States</td>\n",
       "      <td>1</td>\n",
       "      <td>North America</td>\n",
       "      <td>Wisconsin</td>\n",
       "      <td>...</td>\n",
       "      <td>Basketball courts, weight room, swimming pool,...</td>\n",
       "      <td>0.0</td>\n",
       "      <td>0.0</td>\n",
       "      <td>Tom Bates, \"Rads: The 1970 Bombing of the Army...</td>\n",
       "      <td>David Newman, Sandra Sutherland, and Jon Stewa...</td>\n",
       "      <td>Hewitt Project</td>\n",
       "      <td>0</td>\n",
       "      <td>0</td>\n",
       "      <td>0</td>\n",
       "      <td>0</td>\n",
       "    </tr>\n",
       "  </tbody>\n",
       "</table>\n",
       "<p>5 rows × 64 columns</p>\n",
       "</div>"
      ],
      "text/plain": [
       "        eventid  iyear  imonth  iday  extended  country         country_txt  \\\n",
       "0  197000000001   1970       7     2         0       58  Dominican Republic   \n",
       "1  197000000002   1970       0     0         0      130              Mexico   \n",
       "5  197001010002   1970       1     1         0      217       United States   \n",
       "6  197001020001   1970       1     2         0      218             Uruguay   \n",
       "8  197001020003   1970       1     2         0      217       United States   \n",
       "\n",
       "   region                   region_txt   provstate   ...     \\\n",
       "0       2  Central America & Caribbean         NaN   ...      \n",
       "1       1                North America     Federal   ...      \n",
       "5       1                North America    Illinois   ...      \n",
       "6       3                South America  Montevideo   ...      \n",
       "8       1                North America   Wisconsin   ...      \n",
       "\n",
       "                                         propcomment  ishostkid  ransom  \\\n",
       "0                                                NaN        0.0     0.0   \n",
       "1                                                NaN        1.0     1.0   \n",
       "5                                                NaN        0.0     0.0   \n",
       "6                                                NaN        0.0     0.0   \n",
       "8  Basketball courts, weight room, swimming pool,...        0.0     0.0   \n",
       "\n",
       "                                              scite1  \\\n",
       "0                                                NaN   \n",
       "1                                                NaN   \n",
       "5  \"Police Chief Quits,\" Washington Post, January...   \n",
       "6                                                NaN   \n",
       "8  Tom Bates, \"Rads: The 1970 Bombing of the Army...   \n",
       "\n",
       "                                              scite2        dbsource INT_LOG  \\\n",
       "0                                                NaN            PGIS       0   \n",
       "1                                                NaN            PGIS       0   \n",
       "5  \"Cairo Police Chief Quits; Decries Local 'Mili...  Hewitt Project      -9   \n",
       "6                                                NaN            PGIS       0   \n",
       "8  David Newman, Sandra Sutherland, and Jon Stewa...  Hewitt Project       0   \n",
       "\n",
       "   INT_IDEO  INT_MISC  INT_ANY  \n",
       "0         0         0        0  \n",
       "1         1         1        1  \n",
       "5        -9         0       -9  \n",
       "6         0         0        0  \n",
       "8         0         0        0  \n",
       "\n",
       "[5 rows x 64 columns]"
      ]
     },
     "execution_count": 9,
     "metadata": {},
     "output_type": "execute_result"
    }
   ],
   "source": [
    "df.head()"
   ]
  },
  {
   "cell_type": "code",
   "execution_count": 10,
   "metadata": {
    "colab": {
     "base_uri": "https://localhost:8080/",
     "height": 1105
    },
    "colab_type": "code",
    "id": "FttEMHpH6MGn",
    "outputId": "1d6f90f9-2cb9-4042-b5dd-93f9c20af6e6"
   },
   "outputs": [
    {
     "data": {
      "text/plain": [
       "['eventid',\n",
       " 'iyear',\n",
       " 'imonth',\n",
       " 'iday',\n",
       " 'extended',\n",
       " 'country',\n",
       " 'country_txt',\n",
       " 'region',\n",
       " 'region_txt',\n",
       " 'provstate',\n",
       " 'city',\n",
       " 'latitude',\n",
       " 'longitude',\n",
       " 'specificity',\n",
       " 'vicinity',\n",
       " 'location',\n",
       " 'summary',\n",
       " 'crit1',\n",
       " 'crit2',\n",
       " 'crit3',\n",
       " 'doubtterr',\n",
       " 'multiple',\n",
       " 'success',\n",
       " 'suicide',\n",
       " 'attacktype1',\n",
       " 'attacktype1_txt',\n",
       " 'targtype1',\n",
       " 'targtype1_txt',\n",
       " 'targsubtype1',\n",
       " 'targsubtype1_txt',\n",
       " 'corp1',\n",
       " 'target1',\n",
       " 'natlty1',\n",
       " 'natlty1_txt',\n",
       " 'gname',\n",
       " 'guncertain1',\n",
       " 'individual',\n",
       " 'nperps',\n",
       " 'nperpcap',\n",
       " 'claimed',\n",
       " 'weaptype1',\n",
       " 'weaptype1_txt',\n",
       " 'weapsubtype1',\n",
       " 'weapsubtype1_txt',\n",
       " 'weapdetail',\n",
       " 'nkill',\n",
       " 'nkillus',\n",
       " 'nkillter',\n",
       " 'nwound',\n",
       " 'nwoundus',\n",
       " 'nwoundte',\n",
       " 'property',\n",
       " 'propextent',\n",
       " 'propextent_txt',\n",
       " 'propcomment',\n",
       " 'ishostkid',\n",
       " 'ransom',\n",
       " 'scite1',\n",
       " 'scite2',\n",
       " 'dbsource',\n",
       " 'INT_LOG',\n",
       " 'INT_IDEO',\n",
       " 'INT_MISC',\n",
       " 'INT_ANY']"
      ]
     },
     "execution_count": 10,
     "metadata": {},
     "output_type": "execute_result"
    }
   ],
   "source": [
    "df.columns.tolist()"
   ]
  },
  {
   "cell_type": "code",
   "execution_count": 11,
   "metadata": {
    "colab": {
     "base_uri": "https://localhost:8080/",
     "height": 362
    },
    "colab_type": "code",
    "id": "gnonHN9b1lrP",
    "outputId": "6c3dd032-e5dc-4a46-fd5f-041e5dfa7db3"
   },
   "outputs": [
    {
     "data": {
      "text/plain": [
       "<matplotlib.axes._subplots.AxesSubplot at 0x131808e80>"
      ]
     },
     "execution_count": 11,
     "metadata": {},
     "output_type": "execute_result"
    },
    {
     "data": {
      "image/png": "[encoded data removed]",
      "text/plain": [
       "<Figure size 432x288 with 1 Axes>"
      ]
     },
     "metadata": {},
     "output_type": "display_data"
    }
   ],
   "source": [
    "sns.heatmap(df.isnull(), yticklabels=False, cbar=False, cmap='viridis')"
   ]
  },
  {
   "cell_type": "markdown",
   "metadata": {
    "colab_type": "text",
    "id": "vjaHSLwQG8h5"
   },
   "source": [
    "That's looking a little better, next will just fill the unavailable data"
   ]
  },
  {
   "cell_type": "code",
   "execution_count": 12,
   "metadata": {
    "colab": {
     "base_uri": "https://localhost:8080/",
     "height": 362
    },
    "colab_type": "code",
    "id": "Jj90HVfWC4AL",
    "outputId": "64e03da7-1863-469c-b255-603bf36ae4e8"
   },
   "outputs": [
    {
     "data": {
      "text/plain": [
       "<matplotlib.axes._subplots.AxesSubplot at 0x119e406a0>"
      ]
     },
     "execution_count": 12,
     "metadata": {},
     "output_type": "execute_result"
    },
    {
     "data": {
      "image/png": "[encoded data removed]",
      "text/plain": [
       "<Figure size 432x288 with 1 Axes>"
      ]
     },
     "metadata": {},
     "output_type": "display_data"
    }
   ],
   "source": [
    "df.fillna(0, inplace=True)\n",
    "\n",
    "sns.heatmap(df.isnull(), yticklabels=False, cbar=False, cmap='viridis')"
   ]
  },
  {
   "cell_type": "markdown",
   "metadata": {
    "colab_type": "text",
    "id": "TNjih_BmHmw6"
   },
   "source": [
    "## Data exploration"
   ]
  },
  {
   "cell_type": "code",
   "execution_count": 13,
   "metadata": {
    "colab": {
     "base_uri": "https://localhost:8080/",
     "height": 402
    },
    "colab_type": "code",
    "id": "ZT8OqHkX1mR_",
    "outputId": "bc216a3e-9f24-4fb2-fc09-5bb6532112c5"
   },
   "outputs": [
    {
     "data": {
      "text/plain": [
       "<seaborn.axisgrid.FacetGrid at 0x130515198>"
      ]
     },
     "execution_count": 13,
     "metadata": {},
     "output_type": "execute_result"
    },
    {
     "data": {
      "image/png": "[encoded data removed]",
      "text/plain": [
       "<Figure size 4398.98x360 with 12 Axes>"
      ]
     },
     "metadata": {},
     "output_type": "display_data"
    }
   ],
   "source": [
    "sns.relplot(x=\"iyear\", y=\"nkill\", \n",
    "            col=\"region_txt\", # Categorical variables that will determine the faceting of the grid.\n",
    "            hue=\"success\",  # Grouping variable that will produce elements with different colors.\n",
    "            style=\"success\", # Grouping variable that will produce elements with different styles.\n",
    "            data=df)"
   ]
  },
  {
   "cell_type": "code",
   "execution_count": 14,
   "metadata": {
    "colab": {
     "base_uri": "https://localhost:8080/",
     "height": 402
    },
    "colab_type": "code",
    "id": "NmaOoMXh3rum",
    "outputId": "055ec684-8558-45a7-eb10-33dcb2ec4fef"
   },
   "outputs": [
    {
     "data": {
      "text/plain": [
       "<seaborn.axisgrid.FacetGrid at 0x12f31eeb8>"
      ]
     },
     "execution_count": 14,
     "metadata": {},
     "output_type": "execute_result"
    },
    {
     "data": {
      "image/png": "[encoded data removed]",
      "text/plain": [
       "<Figure size 4398.98x360 with 12 Axes>"
      ]
     },
     "metadata": {},
     "output_type": "display_data"
    }
   ],
   "source": [
    "sns.relplot(x=\"iyear\", y=\"nkill\", \n",
    "           col=\"weaptype1_txt\", # Categorical variables that will determine the faceting of the grid.\n",
    "           hue=\"success\",  # Grouping variable that will produce elements with different colors.\n",
    "           style=\"success\", # Grouping variable that will produce elements with different styles.\n",
    "           data=df)"
   ]
  },
  {
   "cell_type": "markdown",
   "metadata": {
    "colab_type": "text",
    "id": "7P10fIWQ1R0l"
   },
   "source": [
    "Number of attacks by group"
   ]
  },
  {
   "cell_type": "code",
   "execution_count": 15,
   "metadata": {
    "colab": {
     "base_uri": "https://localhost:8080/",
     "height": 136
    },
    "colab_type": "code",
    "id": "zy2U03ZxkLdE",
    "outputId": "c3640bc1-3438-4f12-89b6-e811edcd24b3"
   },
   "outputs": [
    {
     "data": {
      "text/plain": [
       "gname\n",
       "Taliban                                             7478\n",
       "Islamic State of Iraq and the Levant (ISIL)         5613\n",
       "Shining Path (SL)                                   4555\n",
       "Farabundo Marti National Liberation Front (FMLN)    3351\n",
       "Al-Shabaab                                          3288\n",
       "dtype: int64"
      ]
     },
     "execution_count": 15,
     "metadata": {},
     "output_type": "execute_result"
    }
   ],
   "source": [
    "df.groupby(\"gname\").size().sort_values(ascending=False).head()"
   ]
  },
  {
   "cell_type": "markdown",
   "metadata": {
    "colab_type": "text",
    "id": "045mkTAj1XtS"
   },
   "source": [
    "Number of kills by group"
   ]
  },
  {
   "cell_type": "code",
   "execution_count": 16,
   "metadata": {
    "colab": {
     "base_uri": "https://localhost:8080/",
     "height": 136
    },
    "colab_type": "code",
    "id": "oma87n5y0aCn",
    "outputId": "5ce8b9a9-94a7-4e6c-dc5d-cd6ef69236a3"
   },
   "outputs": [
    {
     "data": {
      "text/plain": [
       "gname\n",
       "Islamic State of Iraq and the Levant (ISIL)    38923.0\n",
       "Taliban                                        29410.0\n",
       "Boko Haram                                     20328.0\n",
       "Shining Path (SL)                              11601.0\n",
       "Liberation Tigers of Tamil Eelam (LTTE)        10989.0\n",
       "Name: nkill, dtype: float64"
      ]
     },
     "execution_count": 16,
     "metadata": {},
     "output_type": "execute_result"
    }
   ],
   "source": [
    "df.groupby(\"gname\")[\"nkill\"].sum().sort_values(ascending=False).head()"
   ]
  },
  {
   "cell_type": "markdown",
   "metadata": {
    "colab_type": "text",
    "id": "dUsW_pQl1kls"
   },
   "source": [
    "Number of attacks by target"
   ]
  },
  {
   "cell_type": "code",
   "execution_count": 17,
   "metadata": {
    "colab": {
     "base_uri": "https://localhost:8080/",
     "height": 136
    },
    "colab_type": "code",
    "id": "9lV24zfxkpo0",
    "outputId": "488dbd5f-d713-44a6-9f3e-93f7bfdd4488"
   },
   "outputs": [
    {
     "data": {
      "text/plain": [
       "targtype1_txt\n",
       "Private Citizens & Property    22727\n",
       "Military                       18969\n",
       "Police                         14094\n",
       "Business                       11518\n",
       "Government (General)            9946\n",
       "dtype: int64"
      ]
     },
     "execution_count": 17,
     "metadata": {},
     "output_type": "execute_result"
    }
   ],
   "source": [
    "df.groupby(\"targtype1_txt\").size().sort_values(ascending=False).head()"
   ]
  },
  {
   "cell_type": "markdown",
   "metadata": {
    "colab_type": "text",
    "id": "RSUKnf1M1q-_"
   },
   "source": [
    "Number of attacks by nationality"
   ]
  },
  {
   "cell_type": "code",
   "execution_count": 18,
   "metadata": {
    "colab": {
     "base_uri": "https://localhost:8080/",
     "height": 136
    },
    "colab_type": "code",
    "id": "dL2U8w2Rk1dg",
    "outputId": "15707596-e482-432b-9bff-0c6ce89a4242"
   },
   "outputs": [
    {
     "data": {
      "text/plain": [
       "natlty1_txt\n",
       "India          7805\n",
       "Afghanistan    6989\n",
       "Iraq           6010\n",
       "Colombia       5958\n",
       "Peru           4994\n",
       "dtype: int64"
      ]
     },
     "execution_count": 18,
     "metadata": {},
     "output_type": "execute_result"
    }
   ],
   "source": [
    "df.groupby(\"natlty1_txt\").size().sort_values(ascending=False).head()"
   ]
  },
  {
   "cell_type": "markdown",
   "metadata": {
    "colab_type": "text",
    "id": "d2Ok4atW39iV"
   },
   "source": [
    "Looking at the numbers above that might indicate that people with certain nationalities might be more likely to commit terrorist attacks but is that actually true?"
   ]
  },
  {
   "cell_type": "code",
   "execution_count": 19,
   "metadata": {
    "colab": {
     "base_uri": "https://localhost:8080/",
     "height": 1088
    },
    "colab_type": "code",
    "id": "pdk7RJvf4LuH",
    "outputId": "c522463c-0152-4ebd-91f0-cc2e4dbe2c40"
   },
   "outputs": [
    {
     "data": {
      "text/plain": [
       "country_txt  natlty1_txt             \n",
       "Afghanistan  0                            259\n",
       "             Afghanistan                 6938\n",
       "             Algeria                        1\n",
       "             Asian                          3\n",
       "             Australia                      2\n",
       "             Bangladesh                     3\n",
       "             Canada                         7\n",
       "             China                          3\n",
       "             Denmark                        1\n",
       "             France                         8\n",
       "             Germany                        7\n",
       "             Great Britain                  8\n",
       "             Iceland                        1\n",
       "             India                         20\n",
       "             International                522\n",
       "             Iran                           4\n",
       "             Iraq                           6\n",
       "             Italy                          9\n",
       "             Japan                          5\n",
       "             Multinational                 20\n",
       "             Nepal                          1\n",
       "             Netherlands                    2\n",
       "             Norway                         1\n",
       "             Pakistan                      13\n",
       "             Russia                         1\n",
       "             Saudi Arabia                   1\n",
       "             South Korea                    2\n",
       "             Soviet Union                   1\n",
       "             Spain                          1\n",
       "             Sweden                         1\n",
       "                                         ... \n",
       "Yemen        Tajikistan                     1\n",
       "             Tuvalu                         1\n",
       "             United Arab Emirates           4\n",
       "             United Kingdom                 1\n",
       "             United States                 29\n",
       "             Uzbekistan                     1\n",
       "             West Bank and Gaza Strip       1\n",
       "             Yemen                       2170\n",
       "Yugoslavia   Albania                        1\n",
       "             Bosnia-Herzegovina             2\n",
       "             Israel                         1\n",
       "             Multinational                  1\n",
       "             Serbia-Montenegro             44\n",
       "             Turkey                         1\n",
       "             United States                  2\n",
       "             Yugoslavia                    22\n",
       "Zaire        Great Britain                  1\n",
       "             Israel                         3\n",
       "             Rwanda                         2\n",
       "             Spain                          1\n",
       "             Sweden                         1\n",
       "             United States                  1\n",
       "             Zaire                          8\n",
       "Zambia       Angola                         1\n",
       "             Portugal                       1\n",
       "             South Africa                   1\n",
       "             Zambia                        29\n",
       "Zimbabwe     Great Britain                  3\n",
       "             United States                  1\n",
       "             Zimbabwe                      40\n",
       "Length: 1806, dtype: int64"
      ]
     },
     "execution_count": 19,
     "metadata": {},
     "output_type": "execute_result"
    }
   ],
   "source": [
    "df.groupby(['country_txt', 'natlty1_txt']).size()"
   ]
  },
  {
   "cell_type": "markdown",
   "metadata": {
    "colab_type": "text",
    "id": "3RQmUAunQQsO"
   },
   "source": [
    "It is clear that majority of the attacks in most of countries are commited by the citizens of that country. So if we see an over represented nationality that most probably indicate a failed state or an unstable government. \n",
    "\n",
    "What about the United States specifically\n"
   ]
  },
  {
   "cell_type": "code",
   "execution_count": 20,
   "metadata": {
    "colab": {
     "base_uri": "https://localhost:8080/",
     "height": 918
    },
    "colab_type": "code",
    "id": "f-cCXc7IM3EV",
    "outputId": "94b193fd-c08e-4fd9-a3a5-e6bd674249db"
   },
   "outputs": [
    {
     "data": {
      "text/plain": [
       "country_txt    natlty1_txt                     \n",
       "United States  0                                      4\n",
       "               Angola                                 1\n",
       "               Argentina                              2\n",
       "               Bahamas                                2\n",
       "               Bangladesh                             1\n",
       "               Brazil                                 1\n",
       "               Canada                                 1\n",
       "               China                                  3\n",
       "               Colombia                               1\n",
       "               Costa Rica                             2\n",
       "               Cuba                                  19\n",
       "               Czechoslovakia                         1\n",
       "               Democratic Republic of the Congo       1\n",
       "               Dominican Republic                     3\n",
       "               Egypt                                  8\n",
       "               France                                 1\n",
       "               Germany                                1\n",
       "               Great Britain                          2\n",
       "               Haiti                                  4\n",
       "               India                                  4\n",
       "               International                          8\n",
       "               Iran                                   8\n",
       "               Iraq                                   4\n",
       "               Israel                                13\n",
       "               Lebanon                                3\n",
       "               Liberia                                1\n",
       "               Libya                                  3\n",
       "               Malawi                                 1\n",
       "               Mexico                                10\n",
       "               New Zealand                            1\n",
       "               Nicaragua                              1\n",
       "               Panama                                 1\n",
       "               Poland                                 1\n",
       "               Portugal                               2\n",
       "               Puerto Rico                           58\n",
       "               Rhodesia                               1\n",
       "               Russia                                 2\n",
       "               Saudi Arabia                           1\n",
       "               South Africa                           6\n",
       "               Soviet Union                          40\n",
       "               Spain                                  5\n",
       "               Switzerland                            5\n",
       "               Tunisia                                1\n",
       "               Turkey                                10\n",
       "               United States                       1991\n",
       "               Uruguay                                1\n",
       "               Venezuela                              7\n",
       "               Vietnam                                5\n",
       "               West Bank and Gaza Strip               4\n",
       "               West Germany (FRG)                     1\n",
       "               Yugoslavia                             6\n",
       "dtype: int64"
      ]
     },
     "execution_count": 20,
     "metadata": {},
     "output_type": "execute_result"
    }
   ],
   "source": [
    "df.loc[df['country_txt'] == 'United States', ['country_txt', 'natlty1_txt']].groupby(['country_txt', 'natlty1_txt']).size()"
   ]
  },
  {
   "cell_type": "markdown",
   "metadata": {
    "colab_type": "text",
    "id": "PvFfr_KAQWZf"
   },
   "source": [
    "That make sense because most groups are regional that also means that region and country would be good inputs to our model."
   ]
  },
  {
   "cell_type": "markdown",
   "metadata": {
    "colab_type": "text",
    "id": "g-k5jEnK2y4E"
   },
   "source": [
    "## Model training\n",
    "\n",
    "A tree based model should deliver good results"
   ]
  },
  {
   "cell_type": "code",
   "execution_count": 21,
   "metadata": {
    "colab": {},
    "colab_type": "code",
    "id": "qC03Ns9D7qyW"
   },
   "outputs": [],
   "source": [
    "y = df['gname']\n",
    "feature_names = ['iyear', 'country', 'region', 'multiple', 'success', 'suicide', 'attacktype1', \n",
    "                 'targtype1', 'targsubtype1', 'natlty1', 'claimed', 'weaptype1', 'nkill', 'nwound', \n",
    "                 'ransom']\n",
    "X = df[feature_names]"
   ]
  },
  {
   "cell_type": "markdown",
   "metadata": {
    "colab_type": "text",
    "id": "3agoXqUAevEZ"
   },
   "source": [
    "### Minimize our dataframe memory usage\n",
    "\n",
    "We will achieve that by dropping the columns we will not be using in training our models, and if that is not enough I will look into columns data types and convert them."
   ]
  },
  {
   "cell_type": "code",
   "execution_count": 22,
   "metadata": {
    "colab": {},
    "colab_type": "code",
    "id": "yYRPJQ1sgGwz"
   },
   "outputs": [],
   "source": [
    "# https://www.dataquest.io/blog/pandas-big-data/\n",
    "def mem_usage(pandas_obj):\n",
    "    if isinstance(pandas_obj,pd.DataFrame):\n",
    "        usage_b = pandas_obj.memory_usage(deep=True).sum()\n",
    "    else: # we assume if not a df it's a series\n",
    "        usage_b = pandas_obj.memory_usage(deep=True)\n",
    "    usage_mb = usage_b / 1024 ** 2 # convert bytes to megabytes\n",
    "    return \"{:03.2f} MB\".format(usage_mb)"
   ]
  },
  {
   "cell_type": "code",
   "execution_count": 23,
   "metadata": {
    "colab": {
     "base_uri": "https://localhost:8080/",
     "height": 34
    },
    "colab_type": "code",
    "id": "HUQYeWsQgIbW",
    "outputId": "e6fb0995-8fb2-4791-d33e-f92878f332c4"
   },
   "outputs": [
    {
     "name": "stdout",
     "output_type": "stream",
     "text": [
      "Memory usage before 191.12 MB\n"
     ]
    }
   ],
   "source": [
    "print(\"Memory usage before\", mem_usage(df))"
   ]
  },
  {
   "cell_type": "code",
   "execution_count": 24,
   "metadata": {
    "colab": {},
    "colab_type": "code",
    "id": "bZgOtjDrexW0"
   },
   "outputs": [],
   "source": [
    "columns_to_keep = ['gname'] + feature_names\n",
    "columns_to_drop = []\n",
    "for column in df.columns.tolist():\n",
    "    if column not in columns_to_keep:\n",
    "        columns_to_drop.append(column)\n",
    "        \n",
    "df.drop(columns_to_drop, axis=1, inplace=True)"
   ]
  },
  {
   "cell_type": "code",
   "execution_count": 25,
   "metadata": {
    "colab": {
     "base_uri": "https://localhost:8080/",
     "height": 34
    },
    "colab_type": "code",
    "id": "j7aiKgQ5gLxd",
    "outputId": "6b540eef-cc7f-41ee-b5ff-e5b8c17cabd8"
   },
   "outputs": [
    {
     "name": "stdout",
     "output_type": "stream",
     "text": [
      "Memory usage after 20.01 MB\n"
     ]
    }
   ],
   "source": [
    "print(\"Memory usage after\", mem_usage(df))"
   ]
  },
  {
   "cell_type": "markdown",
   "metadata": {
    "colab_type": "text",
    "id": "jQMdQsv8O0cF"
   },
   "source": [
    "### Split our data into train, validation and test"
   ]
  },
  {
   "cell_type": "code",
   "execution_count": 26,
   "metadata": {
    "colab": {},
    "colab_type": "code",
    "id": "5sNSFsN352LR"
   },
   "outputs": [],
   "source": [
    "from sklearn.model_selection import train_test_split\n",
    "\n",
    "train_X, test_X, train_y, test_y = train_test_split(X, y, random_state=1)\n",
    "train_X, val_X, train_y, val_y = train_test_split(train_X, train_y, random_state=1)"
   ]
  },
  {
   "cell_type": "markdown",
   "metadata": {
    "colab_type": "text",
    "id": "MwjYXsorQmTN"
   },
   "source": [
    "### RandomForestClassifier"
   ]
  },
  {
   "cell_type": "code",
   "execution_count": 27,
   "metadata": {
    "colab": {},
    "colab_type": "code",
    "id": "IZpMtzdNCptv"
   },
   "outputs": [
    {
     "name": "stderr",
     "output_type": "stream",
     "text": [
      "/Users/mostafagazar/anaconda3/envs/tf/lib/python3.5/site-packages/sklearn/ensemble/weight_boosting.py:29: DeprecationWarning: numpy.core.umath_tests is an internal NumPy module and should not be imported. It will be removed in a future NumPy release.\n",
      "  from numpy.core.umath_tests import inner1d\n"
     ]
    }
   ],
   "source": [
    "from sklearn.ensemble import RandomForestClassifier\n",
    "\n",
    "model = RandomForestClassifier(random_state=0).fit(train_X, train_y)"
   ]
  },
  {
   "cell_type": "markdown",
   "metadata": {
    "colab_type": "text",
    "id": "OVSJNW6V74U_"
   },
   "source": [
    "Calculate and show permutation importances with the eli5 library"
   ]
  },
  {
   "cell_type": "code",
   "execution_count": 28,
   "metadata": {
    "colab": {
     "base_uri": "https://localhost:8080/",
     "height": 289
    },
    "colab_type": "code",
    "id": "G5jqAcEW75Sv",
    "outputId": "26db16b3-14a2-46da-d95f-107b681bbd00"
   },
   "outputs": [
    {
     "data": {
      "text/html": [
       "\n",
       "    <style>\n",
       "    table.eli5-weights tr:hover {\n",
       "        filter: brightness(85%);\n",
       "    }\n",
       "</style>\n",
       "\n",
       "\n",
       "\n",
       "    \n",
       "\n",
       "    \n",
       "\n",
       "    \n",
       "\n",
       "    \n",
       "\n",
       "    \n",
       "\n",
       "    \n",
       "\n",
       "\n",
       "    \n",
       "\n",
       "    \n",
       "\n",
       "    \n",
       "\n",
       "    \n",
       "\n",
       "    \n",
       "\n",
       "    \n",
       "\n",
       "\n",
       "    \n",
       "\n",
       "    \n",
       "\n",
       "    \n",
       "\n",
       "    \n",
       "\n",
       "    \n",
       "        <table class=\"eli5-weights eli5-feature-importances\" style=\"border-collapse: collapse; border: none; margin-top: 0em; table-layout: auto;\">\n",
       "    <thead>\n",
       "    <tr style=\"border: none;\">\n",
       "        <th style=\"padding: 0 1em 0 0.5em; text-align: right; border: none;\">Weight</th>\n",
       "        <th style=\"padding: 0 0.5em 0 0.5em; text-align: left; border: none;\">Feature</th>\n",
       "    </tr>\n",
       "    </thead>\n",
       "    <tbody>\n",
       "    \n",
       "        <tr style=\"background-color: hsl(120, 100.00%, 80.00%); border: none;\">\n",
       "            <td style=\"padding: 0 1em 0 0.5em; text-align: right; border: none;\">\n",
       "                0.2887\n",
       "                \n",
       "                    &plusmn; 0.0069\n",
       "                \n",
       "            </td>\n",
       "            <td style=\"padding: 0 0.5em 0 0.5em; text-align: left; border: none;\">\n",
       "                iyear\n",
       "            </td>\n",
       "        </tr>\n",
       "    \n",
       "        <tr style=\"background-color: hsl(120, 100.00%, 80.63%); border: none;\">\n",
       "            <td style=\"padding: 0 1em 0 0.5em; text-align: right; border: none;\">\n",
       "                0.2758\n",
       "                \n",
       "                    &plusmn; 0.0046\n",
       "                \n",
       "            </td>\n",
       "            <td style=\"padding: 0 0.5em 0 0.5em; text-align: left; border: none;\">\n",
       "                country\n",
       "            </td>\n",
       "        </tr>\n",
       "    \n",
       "        <tr style=\"background-color: hsl(120, 100.00%, 81.43%); border: none;\">\n",
       "            <td style=\"padding: 0 1em 0 0.5em; text-align: right; border: none;\">\n",
       "                0.2598\n",
       "                \n",
       "                    &plusmn; 0.0032\n",
       "                \n",
       "            </td>\n",
       "            <td style=\"padding: 0 0.5em 0 0.5em; text-align: left; border: none;\">\n",
       "                region\n",
       "            </td>\n",
       "        </tr>\n",
       "    \n",
       "        <tr style=\"background-color: hsl(120, 100.00%, 89.85%); border: none;\">\n",
       "            <td style=\"padding: 0 1em 0 0.5em; text-align: right; border: none;\">\n",
       "                0.1095\n",
       "                \n",
       "                    &plusmn; 0.0037\n",
       "                \n",
       "            </td>\n",
       "            <td style=\"padding: 0 0.5em 0 0.5em; text-align: left; border: none;\">\n",
       "                natlty1\n",
       "            </td>\n",
       "        </tr>\n",
       "    \n",
       "        <tr style=\"background-color: hsl(120, 100.00%, 95.70%); border: none;\">\n",
       "            <td style=\"padding: 0 1em 0 0.5em; text-align: right; border: none;\">\n",
       "                0.0321\n",
       "                \n",
       "                    &plusmn; 0.0030\n",
       "                \n",
       "            </td>\n",
       "            <td style=\"padding: 0 0.5em 0 0.5em; text-align: left; border: none;\">\n",
       "                claimed\n",
       "            </td>\n",
       "        </tr>\n",
       "    \n",
       "        <tr style=\"background-color: hsl(120, 100.00%, 96.33%); border: none;\">\n",
       "            <td style=\"padding: 0 1em 0 0.5em; text-align: right; border: none;\">\n",
       "                0.0256\n",
       "                \n",
       "                    &plusmn; 0.0029\n",
       "                \n",
       "            </td>\n",
       "            <td style=\"padding: 0 0.5em 0 0.5em; text-align: left; border: none;\">\n",
       "                weaptype1\n",
       "            </td>\n",
       "        </tr>\n",
       "    \n",
       "        <tr style=\"background-color: hsl(120, 100.00%, 96.51%); border: none;\">\n",
       "            <td style=\"padding: 0 1em 0 0.5em; text-align: right; border: none;\">\n",
       "                0.0238\n",
       "                \n",
       "                    &plusmn; 0.0014\n",
       "                \n",
       "            </td>\n",
       "            <td style=\"padding: 0 0.5em 0 0.5em; text-align: left; border: none;\">\n",
       "                nkill\n",
       "            </td>\n",
       "        </tr>\n",
       "    \n",
       "        <tr style=\"background-color: hsl(120, 100.00%, 96.51%); border: none;\">\n",
       "            <td style=\"padding: 0 1em 0 0.5em; text-align: right; border: none;\">\n",
       "                0.0238\n",
       "                \n",
       "                    &plusmn; 0.0040\n",
       "                \n",
       "            </td>\n",
       "            <td style=\"padding: 0 0.5em 0 0.5em; text-align: left; border: none;\">\n",
       "                targsubtype1\n",
       "            </td>\n",
       "        </tr>\n",
       "    \n",
       "        <tr style=\"background-color: hsl(120, 100.00%, 96.76%); border: none;\">\n",
       "            <td style=\"padding: 0 1em 0 0.5em; text-align: right; border: none;\">\n",
       "                0.0214\n",
       "                \n",
       "                    &plusmn; 0.0026\n",
       "                \n",
       "            </td>\n",
       "            <td style=\"padding: 0 0.5em 0 0.5em; text-align: left; border: none;\">\n",
       "                multiple\n",
       "            </td>\n",
       "        </tr>\n",
       "    \n",
       "        <tr style=\"background-color: hsl(120, 100.00%, 96.96%); border: none;\">\n",
       "            <td style=\"padding: 0 1em 0 0.5em; text-align: right; border: none;\">\n",
       "                0.0195\n",
       "                \n",
       "                    &plusmn; 0.0026\n",
       "                \n",
       "            </td>\n",
       "            <td style=\"padding: 0 0.5em 0 0.5em; text-align: left; border: none;\">\n",
       "                targtype1\n",
       "            </td>\n",
       "        </tr>\n",
       "    \n",
       "        <tr style=\"background-color: hsl(120, 100.00%, 97.56%); border: none;\">\n",
       "            <td style=\"padding: 0 1em 0 0.5em; text-align: right; border: none;\">\n",
       "                0.0143\n",
       "                \n",
       "                    &plusmn; 0.0023\n",
       "                \n",
       "            </td>\n",
       "            <td style=\"padding: 0 0.5em 0 0.5em; text-align: left; border: none;\">\n",
       "                attacktype1\n",
       "            </td>\n",
       "        </tr>\n",
       "    \n",
       "        <tr style=\"background-color: hsl(120, 100.00%, 98.47%); border: none;\">\n",
       "            <td style=\"padding: 0 1em 0 0.5em; text-align: right; border: none;\">\n",
       "                0.0073\n",
       "                \n",
       "                    &plusmn; 0.0020\n",
       "                \n",
       "            </td>\n",
       "            <td style=\"padding: 0 0.5em 0 0.5em; text-align: left; border: none;\">\n",
       "                nwound\n",
       "            </td>\n",
       "        </tr>\n",
       "    \n",
       "        <tr style=\"background-color: hsl(120, 100.00%, 99.32%); border: none;\">\n",
       "            <td style=\"padding: 0 1em 0 0.5em; text-align: right; border: none;\">\n",
       "                0.0023\n",
       "                \n",
       "                    &plusmn; 0.0004\n",
       "                \n",
       "            </td>\n",
       "            <td style=\"padding: 0 0.5em 0 0.5em; text-align: left; border: none;\">\n",
       "                suicide\n",
       "            </td>\n",
       "        </tr>\n",
       "    \n",
       "        <tr style=\"background-color: hsl(120, 100.00%, 99.52%); border: none;\">\n",
       "            <td style=\"padding: 0 1em 0 0.5em; text-align: right; border: none;\">\n",
       "                0.0014\n",
       "                \n",
       "                    &plusmn; 0.0015\n",
       "                \n",
       "            </td>\n",
       "            <td style=\"padding: 0 0.5em 0 0.5em; text-align: left; border: none;\">\n",
       "                success\n",
       "            </td>\n",
       "        </tr>\n",
       "    \n",
       "        <tr style=\"background-color: hsl(120, 100.00%, 99.72%); border: none;\">\n",
       "            <td style=\"padding: 0 1em 0 0.5em; text-align: right; border: none;\">\n",
       "                0.0007\n",
       "                \n",
       "                    &plusmn; 0.0002\n",
       "                \n",
       "            </td>\n",
       "            <td style=\"padding: 0 0.5em 0 0.5em; text-align: left; border: none;\">\n",
       "                ransom\n",
       "            </td>\n",
       "        </tr>\n",
       "    \n",
       "    \n",
       "    </tbody>\n",
       "</table>\n",
       "    \n",
       "\n",
       "    \n",
       "\n",
       "\n",
       "    \n",
       "\n",
       "    \n",
       "\n",
       "    \n",
       "\n",
       "    \n",
       "\n",
       "    \n",
       "\n",
       "    \n",
       "\n",
       "\n",
       "\n"
      ],
      "text/plain": [
       "<IPython.core.display.HTML object>"
      ]
     },
     "execution_count": 28,
     "metadata": {},
     "output_type": "execute_result"
    }
   ],
   "source": [
    "import eli5\n",
    "from eli5.sklearn import PermutationImportance\n",
    "\n",
    "perm = PermutationImportance(model, random_state=1).fit(val_X, val_y)\n",
    "eli5.show_weights(perm, feature_names = val_X.columns.tolist())"
   ]
  },
  {
   "cell_type": "markdown",
   "metadata": {
    "colab_type": "text",
    "id": "TD9cmvqR80zw"
   },
   "source": [
    "The region and country where the attack happened is more indicative of what group might be responsible for it.\n",
    "\n",
    "Including the country and region of the attack resulted in more accurate results:\n",
    "\n",
    "* Before including country and region\n",
    " * Accuracy with no scalers 0.6758790709744388\n",
    " * Accuracy after applying scalers 0.6754898144543922\n",
    "\n",
    "* After including coutry and region\n",
    " * Accuracy with no scalers 0.7468535097962891\n",
    "\n"
   ]
  },
  {
   "cell_type": "code",
   "execution_count": 29,
   "metadata": {
    "colab": {
     "base_uri": "https://localhost:8080/",
     "height": 34
    },
    "colab_type": "code",
    "id": "bHUNdK5_KwCz",
    "outputId": "6f6a1697-a88e-4413-b39e-9668f58a2b95"
   },
   "outputs": [
    {
     "data": {
      "text/plain": [
       "0.6896230993206082"
      ]
     },
     "execution_count": 29,
     "metadata": {},
     "output_type": "execute_result"
    }
   ],
   "source": [
    "from sklearn.metrics import accuracy_score\n",
    "\n",
    "pred_y = model.predict(test_X)\n",
    "accuracy_score(test_y, pred_y)"
   ]
  },
  {
   "cell_type": "markdown",
   "metadata": {
    "colab_type": "text",
    "id": "_PUUOoESawjb"
   },
   "source": [
    "### Decision Tree"
   ]
  },
  {
   "cell_type": "code",
   "execution_count": 30,
   "metadata": {
    "colab": {},
    "colab_type": "code",
    "id": "66dqczXGaQHu"
   },
   "outputs": [],
   "source": [
    "from sklearn.tree import DecisionTreeClassifier\n",
    "\n",
    "model = DecisionTreeClassifier(random_state=0).fit(train_X, train_y)"
   ]
  },
  {
   "cell_type": "markdown",
   "metadata": {
    "colab_type": "text",
    "id": "msPaIhY5a1ko"
   },
   "source": [
    "Calculate and show permutation importances"
   ]
  },
  {
   "cell_type": "code",
   "execution_count": 31,
   "metadata": {
    "colab": {},
    "colab_type": "code",
    "id": "PuNLSx3za2ia"
   },
   "outputs": [
    {
     "data": {
      "text/html": [
       "\n",
       "    <style>\n",
       "    table.eli5-weights tr:hover {\n",
       "        filter: brightness(85%);\n",
       "    }\n",
       "</style>\n",
       "\n",
       "\n",
       "\n",
       "    \n",
       "\n",
       "    \n",
       "\n",
       "    \n",
       "\n",
       "    \n",
       "\n",
       "    \n",
       "\n",
       "    \n",
       "\n",
       "\n",
       "    \n",
       "\n",
       "    \n",
       "\n",
       "    \n",
       "\n",
       "    \n",
       "\n",
       "    \n",
       "\n",
       "    \n",
       "\n",
       "\n",
       "    \n",
       "\n",
       "    \n",
       "\n",
       "    \n",
       "\n",
       "    \n",
       "\n",
       "    \n",
       "        <table class=\"eli5-weights eli5-feature-importances\" style=\"border-collapse: collapse; border: none; margin-top: 0em; table-layout: auto;\">\n",
       "    <thead>\n",
       "    <tr style=\"border: none;\">\n",
       "        <th style=\"padding: 0 1em 0 0.5em; text-align: right; border: none;\">Weight</th>\n",
       "        <th style=\"padding: 0 0.5em 0 0.5em; text-align: left; border: none;\">Feature</th>\n",
       "    </tr>\n",
       "    </thead>\n",
       "    <tbody>\n",
       "    \n",
       "        <tr style=\"background-color: hsl(120, 100.00%, 80.00%); border: none;\">\n",
       "            <td style=\"padding: 0 1em 0 0.5em; text-align: right; border: none;\">\n",
       "                0.5608\n",
       "                \n",
       "                    &plusmn; 0.0026\n",
       "                \n",
       "            </td>\n",
       "            <td style=\"padding: 0 0.5em 0 0.5em; text-align: left; border: none;\">\n",
       "                country\n",
       "            </td>\n",
       "        </tr>\n",
       "    \n",
       "        <tr style=\"background-color: hsl(120, 100.00%, 82.30%); border: none;\">\n",
       "            <td style=\"padding: 0 1em 0 0.5em; text-align: right; border: none;\">\n",
       "                0.4710\n",
       "                \n",
       "                    &plusmn; 0.0050\n",
       "                \n",
       "            </td>\n",
       "            <td style=\"padding: 0 0.5em 0 0.5em; text-align: left; border: none;\">\n",
       "                region\n",
       "            </td>\n",
       "        </tr>\n",
       "    \n",
       "        <tr style=\"background-color: hsl(120, 100.00%, 84.75%); border: none;\">\n",
       "            <td style=\"padding: 0 1em 0 0.5em; text-align: right; border: none;\">\n",
       "                0.3807\n",
       "                \n",
       "                    &plusmn; 0.0035\n",
       "                \n",
       "            </td>\n",
       "            <td style=\"padding: 0 0.5em 0 0.5em; text-align: left; border: none;\">\n",
       "                iyear\n",
       "            </td>\n",
       "        </tr>\n",
       "    \n",
       "        <tr style=\"background-color: hsl(120, 100.00%, 94.61%); border: none;\">\n",
       "            <td style=\"padding: 0 1em 0 0.5em; text-align: right; border: none;\">\n",
       "                0.0862\n",
       "                \n",
       "                    &plusmn; 0.0033\n",
       "                \n",
       "            </td>\n",
       "            <td style=\"padding: 0 0.5em 0 0.5em; text-align: left; border: none;\">\n",
       "                natlty1\n",
       "            </td>\n",
       "        </tr>\n",
       "    \n",
       "        <tr style=\"background-color: hsl(120, 100.00%, 94.97%); border: none;\">\n",
       "            <td style=\"padding: 0 1em 0 0.5em; text-align: right; border: none;\">\n",
       "                0.0780\n",
       "                \n",
       "                    &plusmn; 0.0032\n",
       "                \n",
       "            </td>\n",
       "            <td style=\"padding: 0 0.5em 0 0.5em; text-align: left; border: none;\">\n",
       "                targsubtype1\n",
       "            </td>\n",
       "        </tr>\n",
       "    \n",
       "        <tr style=\"background-color: hsl(120, 100.00%, 95.70%); border: none;\">\n",
       "            <td style=\"padding: 0 1em 0 0.5em; text-align: right; border: none;\">\n",
       "                0.0624\n",
       "                \n",
       "                    &plusmn; 0.0025\n",
       "                \n",
       "            </td>\n",
       "            <td style=\"padding: 0 0.5em 0 0.5em; text-align: left; border: none;\">\n",
       "                targtype1\n",
       "            </td>\n",
       "        </tr>\n",
       "    \n",
       "        <tr style=\"background-color: hsl(120, 100.00%, 96.61%); border: none;\">\n",
       "            <td style=\"padding: 0 1em 0 0.5em; text-align: right; border: none;\">\n",
       "                0.0444\n",
       "                \n",
       "                    &plusmn; 0.0027\n",
       "                \n",
       "            </td>\n",
       "            <td style=\"padding: 0 0.5em 0 0.5em; text-align: left; border: none;\">\n",
       "                attacktype1\n",
       "            </td>\n",
       "        </tr>\n",
       "    \n",
       "        <tr style=\"background-color: hsl(120, 100.00%, 96.78%); border: none;\">\n",
       "            <td style=\"padding: 0 1em 0 0.5em; text-align: right; border: none;\">\n",
       "                0.0413\n",
       "                \n",
       "                    &plusmn; 0.0018\n",
       "                \n",
       "            </td>\n",
       "            <td style=\"padding: 0 0.5em 0 0.5em; text-align: left; border: none;\">\n",
       "                weaptype1\n",
       "            </td>\n",
       "        </tr>\n",
       "    \n",
       "        <tr style=\"background-color: hsl(120, 100.00%, 97.23%); border: none;\">\n",
       "            <td style=\"padding: 0 1em 0 0.5em; text-align: right; border: none;\">\n",
       "                0.0332\n",
       "                \n",
       "                    &plusmn; 0.0019\n",
       "                \n",
       "            </td>\n",
       "            <td style=\"padding: 0 0.5em 0 0.5em; text-align: left; border: none;\">\n",
       "                nkill\n",
       "            </td>\n",
       "        </tr>\n",
       "    \n",
       "        <tr style=\"background-color: hsl(120, 100.00%, 97.46%); border: none;\">\n",
       "            <td style=\"padding: 0 1em 0 0.5em; text-align: right; border: none;\">\n",
       "                0.0294\n",
       "                \n",
       "                    &plusmn; 0.0015\n",
       "                \n",
       "            </td>\n",
       "            <td style=\"padding: 0 0.5em 0 0.5em; text-align: left; border: none;\">\n",
       "                multiple\n",
       "            </td>\n",
       "        </tr>\n",
       "    \n",
       "        <tr style=\"background-color: hsl(120, 100.00%, 98.06%); border: none;\">\n",
       "            <td style=\"padding: 0 1em 0 0.5em; text-align: right; border: none;\">\n",
       "                0.0200\n",
       "                \n",
       "                    &plusmn; 0.0021\n",
       "                \n",
       "            </td>\n",
       "            <td style=\"padding: 0 0.5em 0 0.5em; text-align: left; border: none;\">\n",
       "                claimed\n",
       "            </td>\n",
       "        </tr>\n",
       "    \n",
       "        <tr style=\"background-color: hsl(120, 100.00%, 98.45%); border: none;\">\n",
       "            <td style=\"padding: 0 1em 0 0.5em; text-align: right; border: none;\">\n",
       "                0.0145\n",
       "                \n",
       "                    &plusmn; 0.0031\n",
       "                \n",
       "            </td>\n",
       "            <td style=\"padding: 0 0.5em 0 0.5em; text-align: left; border: none;\">\n",
       "                nwound\n",
       "            </td>\n",
       "        </tr>\n",
       "    \n",
       "        <tr style=\"background-color: hsl(120, 100.00%, 99.49%); border: none;\">\n",
       "            <td style=\"padding: 0 1em 0 0.5em; text-align: right; border: none;\">\n",
       "                0.0030\n",
       "                \n",
       "                    &plusmn; 0.0010\n",
       "                \n",
       "            </td>\n",
       "            <td style=\"padding: 0 0.5em 0 0.5em; text-align: left; border: none;\">\n",
       "                success\n",
       "            </td>\n",
       "        </tr>\n",
       "    \n",
       "        <tr style=\"background-color: hsl(120, 100.00%, 99.54%); border: none;\">\n",
       "            <td style=\"padding: 0 1em 0 0.5em; text-align: right; border: none;\">\n",
       "                0.0026\n",
       "                \n",
       "                    &plusmn; 0.0003\n",
       "                \n",
       "            </td>\n",
       "            <td style=\"padding: 0 0.5em 0 0.5em; text-align: left; border: none;\">\n",
       "                suicide\n",
       "            </td>\n",
       "        </tr>\n",
       "    \n",
       "        <tr style=\"background-color: hsl(120, 100.00%, 99.70%); border: none;\">\n",
       "            <td style=\"padding: 0 1em 0 0.5em; text-align: right; border: none;\">\n",
       "                0.0014\n",
       "                \n",
       "                    &plusmn; 0.0004\n",
       "                \n",
       "            </td>\n",
       "            <td style=\"padding: 0 0.5em 0 0.5em; text-align: left; border: none;\">\n",
       "                ransom\n",
       "            </td>\n",
       "        </tr>\n",
       "    \n",
       "    \n",
       "    </tbody>\n",
       "</table>\n",
       "    \n",
       "\n",
       "    \n",
       "\n",
       "\n",
       "    \n",
       "\n",
       "    \n",
       "\n",
       "    \n",
       "\n",
       "    \n",
       "\n",
       "    \n",
       "\n",
       "    \n",
       "\n",
       "\n",
       "\n"
      ],
      "text/plain": [
       "<IPython.core.display.HTML object>"
      ]
     },
     "execution_count": 31,
     "metadata": {},
     "output_type": "execute_result"
    }
   ],
   "source": [
    "perm = PermutationImportance(model, random_state=1).fit(val_X, val_y)\n",
    "eli5.show_weights(perm, feature_names = val_X.columns.tolist())"
   ]
  },
  {
   "cell_type": "code",
   "execution_count": 32,
   "metadata": {
    "colab": {},
    "colab_type": "code",
    "id": "2pQtK0z_a4_Y"
   },
   "outputs": [
    {
     "data": {
      "text/plain": [
       "0.6676237463604011"
      ]
     },
     "execution_count": 32,
     "metadata": {},
     "output_type": "execute_result"
    }
   ],
   "source": [
    "pred_y = model.predict(test_X)\n",
    "accuracy_score(test_y, pred_y)"
   ]
  },
  {
   "cell_type": "markdown",
   "metadata": {
    "colab_type": "text",
    "id": "0BVOUYfaPjOw"
   },
   "source": [
    "### KNeighborsClassifier"
   ]
  },
  {
   "cell_type": "code",
   "execution_count": 33,
   "metadata": {
    "colab": {},
    "colab_type": "code",
    "id": "t2xohxomPmJD"
   },
   "outputs": [
    {
     "data": {
      "text/plain": [
       "0.6213199611776125"
      ]
     },
     "execution_count": 33,
     "metadata": {},
     "output_type": "execute_result"
    }
   ],
   "source": [
    "from sklearn.neighbors import KNeighborsClassifier\n",
    "\n",
    "model = KNeighborsClassifier(n_neighbors=3).fit(train_X, train_y)\n",
    "\n",
    "pred_y = model.predict(test_X)\n",
    "accuracy_score(test_y, pred_y)"
   ]
  },
  {
   "cell_type": "markdown",
   "metadata": {
    "colab_type": "text",
    "id": "B3LwD_BwP6MW"
   },
   "source": [
    "### GaussianNB"
   ]
  },
  {
   "cell_type": "code",
   "execution_count": null,
   "metadata": {
    "colab": {},
    "colab_type": "code",
    "id": "Qiw_FDvxP7l5"
   },
   "outputs": [
    {
     "data": {
      "text/plain": [
       "0.09608540925266904"
      ]
     },
     "execution_count": 34,
     "metadata": {},
     "output_type": "execute_result"
    }
   ],
   "source": [
    "from sklearn.naive_bayes import GaussianNB\n",
    "\n",
    "model = GaussianNB().fit(train_X, train_y)\n",
    "\n",
    "pred_y = model.predict(test_X)\n",
    "accuracy_score(test_y, pred_y)"
   ]
  },
  {
   "cell_type": "markdown",
   "metadata": {
    "colab_type": "text",
    "id": "O4HAPwANk1VA"
   },
   "source": [
    "### CVS"
   ]
  },
  {
   "cell_type": "code",
   "execution_count": null,
   "metadata": {
    "colab": {},
    "colab_type": "code",
    "id": "BM9zFGXAbn9V"
   },
   "outputs": [],
   "source": [
    "from sklearn.svm import SVC\n",
    "\n",
    "model = SVC().fit(train_X, train_y)\n",
    "\n",
    "pred_y = model.predict(test_X)\n",
    "accuracy_score(test_y, pred_y)"
   ]
  },
  {
   "cell_type": "markdown",
   "metadata": {
    "colab_type": "text",
    "id": "18D5qGcdQP0E"
   },
   "source": [
    "## Conclusion\n",
    "\n",
    "The majority of the attacks in most of countries are commited by the citizens of that country. So if we see an over represented nationality that most probably indicate a failed state or an unstable government."
   ]
  },
  {
   "cell_type": "code",
   "execution_count": null,
   "metadata": {
    "colab": {},
    "colab_type": "code",
    "id": "IgDip_TnQQgg"
   },
   "outputs": [],
   "source": []
  }
 ],
 "metadata": {
  "accelerator": "GPU",
  "colab": {
   "collapsed_sections": [],
   "name": "fellowship-ai-challenge.ipynb",
   "provenance": [],
   "toc_visible": true,
   "version": "0.3.2"
  },
  "kernelspec": {
   "display_name": "Python 3",
   "language": "python",
   "name": "python3"
  },
  "language_info": {
   "codemirror_mode": {
    "name": "ipython",
    "version": 3
   },
   "file_extension": ".py",
   "mimetype": "text/x-python",
   "name": "python",
   "nbconvert_exporter": "python",
   "pygments_lexer": "ipython3",
   "version": "3.5.2"
  },
  "widgets": {
   "state": {},
   "version": "1.1.2"
  }
 },
 "nbformat": 4,
 "nbformat_minor": 1
}
